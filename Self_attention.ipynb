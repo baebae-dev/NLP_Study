{
 "cells": [
  {
   "cell_type": "markdown",
   "metadata": {},
   "source": [
    "### 변수 정의"
   ]
  },
  {
   "cell_type": "code",
   "execution_count": 1,
   "metadata": {},
   "outputs": [],
   "source": [
    "import torch\n",
    "\n",
    "x = torch.tensor([\n",
    "  [1.0, 0.0, 1.0, 0.0],\n",
    "  [0.0, 2.0, 0.0, 2.0],\n",
    "  [1.0, 1.0, 1.0, 1.0],\n",
    "])\n",
    "w_query = torch.tensor([\n",
    "  [1.0, 0.0, 1.0],\n",
    "  [1.0, 0.0, 0.0],\n",
    "  [0.0, 0.0, 1.0],\n",
    "  [0.0, 1.0, 1.0]\n",
    "])\n",
    "w_key = torch.tensor([\n",
    "  [0.0, 0.0, 1.0],\n",
    "  [1.0, 1.0, 0.0],\n",
    "  [0.0, 1.0, 0.0],\n",
    "  [1.0, 1.0, 0.0]\n",
    "])\n",
    "w_value = torch.tensor([\n",
    "  [0.0, 2.0, 0.0],\n",
    "  [0.0, 3.0, 0.0],\n",
    "  [1.0, 0.0, 3.0],\n",
    "  [1.0, 1.0, 0.0]\n",
    "])"
   ]
  },
  {
   "cell_type": "markdown",
   "metadata": {},
   "source": [
    "### 쿼리, 키, 밸류 만들기"
   ]
  },
  {
   "cell_type": "code",
   "execution_count": 2,
   "metadata": {
    "pycharm": {
     "name": "#%%\n"
    }
   },
   "outputs": [],
   "source": [
    "keys = torch.matmul(x, w_key)\n",
    "querys = torch.matmul(x, w_query)\n",
    "values = torch.matmul(x, w_value)\n"
   ]
  },
  {
   "cell_type": "markdown",
   "metadata": {},
   "source": [
    "### 어텐션 스코어 만들기"
   ]
  },
  {
   "cell_type": "code",
   "execution_count": 3,
   "metadata": {
    "pycharm": {
     "name": "#%%\n"
    }
   },
   "outputs": [
    {
     "data": {
      "text/plain": [
       "tensor([[ 2.,  4.,  4.],\n",
       "        [ 4., 16., 12.],\n",
       "        [ 4., 12., 10.]])"
      ]
     },
     "execution_count": 3,
     "metadata": {},
     "output_type": "execute_result"
    }
   ],
   "source": [
    "attn_scores = torch.matmul(querys, keys.T)\n",
    "attn_scores"
   ]
  },
  {
   "cell_type": "markdown",
   "metadata": {},
   "source": [
    "### 소프트맥스 확률값 만들기"
   ]
  },
  {
   "cell_type": "code",
   "execution_count": 4,
   "metadata": {
    "pycharm": {
     "name": "#%%\n"
    }
   },
   "outputs": [
    {
     "data": {
      "text/plain": [
       "tensor([[1.3613e-01, 4.3194e-01, 4.3194e-01],\n",
       "        [8.9045e-04, 9.0884e-01, 9.0267e-02],\n",
       "        [7.4449e-03, 7.5471e-01, 2.3785e-01]])"
      ]
     },
     "execution_count": 4,
     "metadata": {},
     "output_type": "execute_result"
    }
   ],
   "source": [
    "import numpy as np\n",
    "from torch.nn.functional import softmax\n",
    "\n",
    "key_dim_sqrt = np.sqrt(keys.shape[-1])\n",
    "attn_scores_softmax = softmax(attn_scores / key_dim_sqrt, dim=-1)\n",
    "attn_scores_softmax"
   ]
  },
  {
   "cell_type": "markdown",
   "metadata": {},
   "source": [
    "### 소프트맥스 확률과 밸류를 가중합하기"
   ]
  },
  {
   "cell_type": "code",
   "execution_count": 6,
   "metadata": {
    "pycharm": {
     "name": "#%%\n"
    }
   },
   "outputs": [
    {
     "data": {
      "text/plain": [
       "tensor([[1.8639, 6.3194, 1.7042],\n",
       "        [1.9991, 7.8141, 0.2735],\n",
       "        [1.9926, 7.4796, 0.7359]])"
      ]
     },
     "execution_count": 6,
     "metadata": {},
     "output_type": "execute_result"
    }
   ],
   "source": [
    "weighted_values = torch.matmul(attn_scores_softmax, values)\n",
    "weighted_values"
   ]
  },
  {
   "cell_type": "code",
   "execution_count": null,
   "metadata": {},
   "outputs": [],
   "source": []
  }
 ],
 "metadata": {
  "kernelspec": {
   "display_name": "Python 3",
   "language": "python",
   "name": "python3"
  },
  "language_info": {
   "codemirror_mode": {
    "name": "ipython",
    "version": 3
   },
   "file_extension": ".py",
   "mimetype": "text/x-python",
   "name": "python",
   "nbconvert_exporter": "python",
   "pygments_lexer": "ipython3",
   "version": "3.9.5"
  }
 },
 "nbformat": 4,
 "nbformat_minor": 1
}