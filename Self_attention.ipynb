{
 "cells": [
  {
   "cell_type": "markdown",
   "source": [
    "### 변수 정의"
   ],
   "metadata": {
    "collapsed": false
   }
  },
  {
   "cell_type": "code",
   "execution_count": 1,
   "metadata": {
    "collapsed": true
   },
   "outputs": [],
   "source": [
    "import torch\n",
    "\n",
    "x = torch.tensor([\n",
    "  [1.0, 0.0, 1.0, 0.0],\n",
    "  [0.0, 2.0, 0.0, 2.0],\n",
    "  [1.0, 1.0, 1.0, 1.0],\n",
    "])\n",
    "w_query = torch.tensor([\n",
    "  [1.0, 0.0, 1.0],\n",
    "  [1.0, 0.0, 0.0],\n",
    "  [0.0, 0.0, 1.0],\n",
    "  [0.0, 1.0, 1.0]\n",
    "])\n",
    "w_key = torch.tensor([\n",
    "  [0.0, 0.0, 1.0],\n",
    "  [1.0, 1.0, 0.0],\n",
    "  [0.0, 1.0, 0.0],\n",
    "  [1.0, 1.0, 0.0]\n",
    "])\n",
    "w_value = torch.tensor([\n",
    "  [0.0, 2.0, 0.0],\n",
    "  [0.0, 3.0, 0.0],\n",
    "  [1.0, 0.0, 3.0],\n",
    "  [1.0, 1.0, 0.0]\n",
    "])"
   ]
  },
  {
   "cell_type": "markdown",
   "source": [
    "### 쿼리, 키, 밸류 만들기"
   ],
   "metadata": {
    "collapsed": false
   }
  },
  {
   "cell_type": "code",
   "execution_count": null,
   "outputs": [],
   "source": [
    "keys = torch.matmul(x, w_key)\n",
    "querys = torch.matmul(x, w_query)\n",
    "values = torch.matmul(x, w_value)\n"
   ],
   "metadata": {
    "collapsed": false,
    "pycharm": {
     "name": "#%%\n"
    }
   }
  },
  {
   "cell_type": "markdown",
   "source": [
    "### 어텐션 스코어 만들기"
   ],
   "metadata": {
    "collapsed": false
   }
  },
  {
   "cell_type": "code",
   "execution_count": null,
   "outputs": [],
   "source": [
    "attn_scores = torch.matmul(querys, keys.T)\n",
    "attn_scores"
   ],
   "metadata": {
    "collapsed": false,
    "pycharm": {
     "name": "#%%\n"
    }
   }
  },
  {
   "cell_type": "markdown",
   "source": [
    "### 소프트맥스 확률값 만들기"
   ],
   "metadata": {
    "collapsed": false
   }
  },
  {
   "cell_type": "code",
   "execution_count": null,
   "outputs": [],
   "source": [
    "import numpy as np\n",
    "from torch.nn.functional import softmax\n",
    "\n",
    "key_dim_sqrt = np.sqrt(keys.shape[-1])\n",
    "attn_scores_softmax = softmax(attn_scores / key_dim_sqrt, dim=-1)\n",
    "attn_scores_softmax"
   ],
   "metadata": {
    "collapsed": false,
    "pycharm": {
     "name": "#%%\n"
    }
   }
  },
  {
   "cell_type": "markdown",
   "source": [
    "### 소프트맥스 확률과 밸류를 가중합하기"
   ],
   "metadata": {
    "collapsed": false
   }
  },
  {
   "cell_type": "code",
   "execution_count": null,
   "outputs": [],
   "source": [
    "weighted_values = torch.matmul(attn_probs, values)\n",
    "weighted_values"
   ],
   "metadata": {
    "collapsed": false,
    "pycharm": {
     "name": "#%%\n"
    }
   }
  }
 ],
 "metadata": {
  "kernelspec": {
   "display_name": "Python 3",
   "language": "python",
   "name": "python3"
  },
  "language_info": {
   "codemirror_mode": {
    "name": "ipython",
    "version": 2
   },
   "file_extension": ".py",
   "mimetype": "text/x-python",
   "name": "python",
   "nbconvert_exporter": "python",
   "pygments_lexer": "ipython2",
   "version": "2.7.6"
  }
 },
 "nbformat": 4,
 "nbformat_minor": 0
}